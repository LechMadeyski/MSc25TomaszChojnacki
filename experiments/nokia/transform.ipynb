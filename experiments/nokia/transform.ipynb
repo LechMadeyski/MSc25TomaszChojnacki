{
 "cells": [
  {
   "cell_type": "code",
   "execution_count": 1,
   "metadata": {},
   "outputs": [],
   "source": [
    "from math import sqrt\n",
    "from hashlib import sha256\n",
    "from base64 import b85encode\n",
    "import pandas as pd"
   ]
  },
  {
   "cell_type": "code",
   "execution_count": 2,
   "metadata": {},
   "outputs": [],
   "source": [
    "d1 = pd.read_excel(\"QCdata_1.xlsx\")\n",
    "d2 = pd.read_excel(\"QCdata_2.xlsx\")\n",
    "d3 = pd.read_excel(\"QCdata_3.xlsx\")\n",
    "d4 = pd.read_excel(\"QCdata_4.xlsx\")\n",
    "d5 = pd.read_excel(\"QCdata_5.xlsx\")\n",
    "d6 = pd.read_excel(\"QCdata_6.xlsx\")\n",
    "df = pd.concat([d1, d2, d3, d4, d5, d6], ignore_index=True)"
   ]
  },
  {
   "cell_type": "code",
   "execution_count": 3,
   "metadata": {},
   "outputs": [],
   "source": [
    "df = df.drop(columns=[\n",
    "  \"FAULT.CREATION.DATE\", # empty\n",
    "  \"AUTOMATION.LEVEL\", # empty\n",
    "  \"DETAILED.AUTOMATION.LEVEL\", # almost empty\n",
    "  \"DOMAIN\", # no variance\n",
    "  \"PROJECT\", # no variance\n",
    "  \"FAULT.REPORT.NB\", # equivalent to \"TEST.STATUS\"\n",
    "  \"TEST.AUTOMATION.LEVEL\", # useless\n",
    "  \"AUTOMATION.LEVEL.FINAL\", # useless\n",
    "  \"FAULT.REPORT.ID\", # broken\n",
    "])"
   ]
  },
  {
   "cell_type": "code",
   "execution_count": 4,
   "metadata": {},
   "outputs": [],
   "source": [
    "df = df.drop_duplicates()\n",
    "df = df.drop(columns=[\"TEST.RUN.ID\"])"
   ]
  },
  {
   "cell_type": "code",
   "execution_count": 5,
   "metadata": {},
   "outputs": [],
   "source": [
    "df = df[df[\"TEST.OBJECT\"] != \"Benchmark\"].drop(columns=[\"TEST.OBJECT\"])"
   ]
  },
  {
   "cell_type": "code",
   "execution_count": 6,
   "metadata": {},
   "outputs": [],
   "source": [
    "df[\"TEST.STATUS\"] = df[\"TEST.STATUS\"].map({\"Passed\": \"PASS\", \"Failed\": \"FAIL\"}).astype(\"category\")"
   ]
  },
  {
   "cell_type": "code",
   "execution_count": 7,
   "metadata": {},
   "outputs": [],
   "source": [
    "df = df[df[\"TEST.ENTITY\"] != \"Manual\"]\n",
    "df = df[df[\"TEST.ENTITY\"].isna() == False]\n"
   ]
  },
  {
   "cell_type": "code",
   "execution_count": 8,
   "metadata": {},
   "outputs": [],
   "source": [
    "df[\"PROGRAM.PHASE\"] = df[\"PROGRAM.PHASE\"].fillna(\"NONE\")\n",
    "df[\"RELEASE\"] = df[\"RELEASE\"].fillna(\"NONE\")\n",
    "df[\"ORGANIZATION\"] = df[\"ORGANIZATION\"].fillna(\"NONE\")"
   ]
  },
  {
   "cell_type": "code",
   "execution_count": 9,
   "metadata": {},
   "outputs": [],
   "source": [
    "def get_test_run_id(row):\n",
    "    date = row[\"EXECUTION.DATE\"].strftime(\"%Y-%m-%d\")\n",
    "    fields = \"$\".join([date, *[row[c] for c in [\"PROGRAM.PHASE\", \"RELEASE\", \"TEST.ENTITY\", \"ORGANIZATION\"]]])\n",
    "    hash = b85encode(sha256(fields.encode()).digest()).decode()\n",
    "    return f\"{date}${hash}\"\n",
    "\n",
    "df[\"run_id\"] = df.apply(get_test_run_id, axis=1).astype(\"string\")\n",
    "df = df.drop(columns=[\"EXECUTION.DATE\", \"PROGRAM.PHASE\", \"RELEASE\", \"TEST.ENTITY\", \"ORGANIZATION\"])\n",
    "df = df.rename(columns={\"TEST.STATUS\": \"status\", \"TEST.INSTANCE.ID\": \"case_id\"})\n",
    "df = df[['run_id', 'case_id', 'status']]\n",
    "df = df.reset_index(drop=True)"
   ]
  },
  {
   "cell_type": "code",
   "execution_count": 10,
   "metadata": {},
   "outputs": [],
   "source": [
    "df.to_csv(\"output.csv\", index=False)"
   ]
  }
 ],
 "metadata": {
  "kernelspec": {
   "display_name": "Python 3",
   "language": "python",
   "name": "python3"
  },
  "language_info": {
   "codemirror_mode": {
    "name": "ipython",
    "version": 3
   },
   "file_extension": ".py",
   "mimetype": "text/x-python",
   "name": "python",
   "nbconvert_exporter": "python",
   "pygments_lexer": "ipython3",
   "version": "3.10.12"
  }
 },
 "nbformat": 4,
 "nbformat_minor": 2
}
